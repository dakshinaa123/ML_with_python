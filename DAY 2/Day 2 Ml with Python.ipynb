{
 "cells": [
  {
   "cell_type": "markdown",
   "id": "940389d2",
   "metadata": {},
   "source": [
    "# Day 2"
   ]
  },
  {
   "cell_type": "markdown",
   "id": "4d9b9fc9",
   "metadata": {},
   "source": [
    "#### List Comprehesion"
   ]
  },
  {
   "cell_type": "code",
   "execution_count": 1,
   "id": "2ea116f3",
   "metadata": {},
   "outputs": [
    {
     "name": "stdout",
     "output_type": "stream",
     "text": [
      "[0, 1, 4, 9, 16, 25, 36, 49, 64, 81]\n"
     ]
    }
   ],
   "source": [
    "squares = [x**2 for x in range(10)]\n",
    "print(squares)"
   ]
  },
  {
   "cell_type": "markdown",
   "id": "149bfbde",
   "metadata": {},
   "source": [
    "#### Nested List"
   ]
  },
  {
   "cell_type": "code",
   "execution_count": 3,
   "id": "98276ddf",
   "metadata": {},
   "outputs": [
    {
     "name": "stdout",
     "output_type": "stream",
     "text": [
      "[1, 2, 3, 4, 5, 6, 7, 8, 9]\n"
     ]
    }
   ],
   "source": [
    "matrix = [[1,2,3],[4,5,6],[7,8,9,]]\n",
    "flat_list = [num for row in matrix for num in row]\n",
    "print(flat_list)"
   ]
  },
  {
   "cell_type": "code",
   "execution_count": 4,
   "id": "e06c880a",
   "metadata": {},
   "outputs": [
    {
     "name": "stdout",
     "output_type": "stream",
     "text": [
      "[0, 4, 16, 36, 64]\n"
     ]
    }
   ],
   "source": [
    "evn_squares = [x**2 for x in range(10) if x%2 == 0]\n",
    "print(evn_squares)"
   ]
  },
  {
   "cell_type": "markdown",
   "id": "c06af854",
   "metadata": {},
   "source": [
    "#### Lambda Function"
   ]
  },
  {
   "cell_type": "code",
   "execution_count": 5,
   "id": "86a6f833",
   "metadata": {},
   "outputs": [
    {
     "name": "stdout",
     "output_type": "stream",
     "text": [
      "8\n"
     ]
    }
   ],
   "source": [
    "add = lambda x,y : x + y\n",
    "print(add(5,3))"
   ]
  },
  {
   "cell_type": "markdown",
   "id": "d9371644",
   "metadata": {},
   "source": [
    "#### Map Function"
   ]
  },
  {
   "cell_type": "code",
   "execution_count": 8,
   "id": "bf6a99ad",
   "metadata": {},
   "outputs": [
    {
     "name": "stdout",
     "output_type": "stream",
     "text": [
      "[1, 4, 9, 16, 25]\n"
     ]
    }
   ],
   "source": [
    "numbers = [1,2,3,4,5]\n",
    "squared = list(map(lambda x :  x**2, numbers))\n",
    "print(squared)"
   ]
  },
  {
   "cell_type": "markdown",
   "id": "a380db5f",
   "metadata": {},
   "source": [
    "#### Filter Function"
   ]
  },
  {
   "cell_type": "code",
   "execution_count": 11,
   "id": "242fb3f8",
   "metadata": {},
   "outputs": [
    {
     "name": "stdout",
     "output_type": "stream",
     "text": [
      "[2, 4]\n"
     ]
    }
   ],
   "source": [
    "numbers = [1,2,3,4,5]\n",
    "evn_numbers = list(filter(lambda x : x%2 == 0, numbers))\n",
    "print(evn_numbers)"
   ]
  },
  {
   "cell_type": "markdown",
   "id": "e927ac3b",
   "metadata": {},
   "source": [
    "#### Decorators"
   ]
  },
  {
   "cell_type": "code",
   "execution_count": 19,
   "id": "38bebbc8",
   "metadata": {},
   "outputs": [
    {
     "name": "stdout",
     "output_type": "stream",
     "text": [
      "Something is happening before the function is called\n",
      "Hello!\n",
      "Something is happening after the function is called\n"
     ]
    }
   ],
   "source": [
    "def my_decorators(func):\n",
    "    def wrapper ():\n",
    "        print(\"Something is happening before the function is called\")\n",
    "        func()\n",
    "        print(\"Something is happening after the function is called\")\n",
    "    return wrapper\n",
    "@my_decorators\n",
    "def say_hello():\n",
    "    print(\"Hello!\")\n",
    "say_hello()"
   ]
  },
  {
   "cell_type": "code",
   "execution_count": null,
   "id": "d0dc416c",
   "metadata": {},
   "outputs": [],
   "source": [
    "def repeat(num_times):\n",
    "    def decorators_repeat(func):\n",
    "        def wrapper(*args, **kwargs):\n",
    "            for _ in range(num_times):\n",
    "                func(*args, **kwargs)\n",
    "            return wrapper\n",
    "        return decorator_repeat\n",
    "@ repeat(num_times=3)\n",
    "def greet(name):\n",
    "    print(f\"Hello {name}\"):\n",
    "greet('Alice')"
   ]
  },
  {
   "cell_type": "code",
   "execution_count": 23,
   "id": "488f439c",
   "metadata": {},
   "outputs": [
    {
     "name": "stdout",
     "output_type": "stream",
     "text": [
      "1 2 3 4 5 "
     ]
    }
   ],
   "source": [
    "def count_up_to(max):\n",
    "    count = 1\n",
    "    while count <= max:\n",
    "         count\n",
    "        count += 1\n",
    "counter= count_up_to(5)\n",
    "for number in counter:\n",
    "    print(number,end=' ')"
   ]
  },
  {
   "cell_type": "markdown",
   "id": "3264dffa",
   "metadata": {},
   "source": [
    "## Numpy"
   ]
  },
  {
   "cell_type": "code",
   "execution_count": 1,
   "id": "d609e084",
   "metadata": {},
   "outputs": [
    {
     "name": "stdout",
     "output_type": "stream",
     "text": [
      "[1 2 3 4 5]\n",
      "[[1 2 3]\n",
      " [4 5 6]\n",
      " [7 8 9]]\n"
     ]
    }
   ],
   "source": [
    "import numpy as np\n",
    "\n",
    "# Creating a 1D array\n",
    "arr1 = np.array([1,2,3,4,5])\n",
    "print(arr1)\n",
    "\n",
    "# Creating a 2D array\n",
    "arr2 = np.array([[1,2,3],[4,5,6],[7,8,9]])\n",
    "print(arr2)\n",
    "\n",
    "# Creating zero array\n",
    "zeros_aray = np.zeros((3, 3))\n",
    "print(zeros_aray)\n",
    "\n",
    "# Arange function\n",
    "range_array = np.arange(0,10,2)\n",
    "print(range_array)\n",
    "\n",
    "# Linspace\n",
    "linspace_array = np.linspace(0,1,5)\n",
    "print(linspace_array)\n",
    "\n",
    "# Identity matrix\n",
    "identity_matrix = np.eye(3)\n",
    "print(identity_matrix)\n",
    "\n",
    "# Random.Rand and Random.RandInt\n",
    "random_array = np.random.rand(3)\n",
    "print(random_array)\n",
    "random_array1 = np.random.randint(3)\n",
    "print(random_array1)\n",
    "\n",
    "# Basic Operation\n",
    "arr1 = np.array([1,2,3])\n",
    "arr2 = np.array([4,5,6])\n",
    "\n",
    "# ADDITION\n",
    "result_add = arr1 + arr2\n",
    "print(result_add)\n",
    "\n",
    "# SUBTRACTION\n",
    "result_subtract = arr1 - arr2\n",
    "print(result_subtract)\n",
    "\n",
    "# MULTIPLICATION\n",
    "result_multiply = arr1 * arr2\n",
    "print(result_multiply)\n",
    "\n",
    "# DIVISION\n",
    "result_division = arr1 / arr2\n",
    "print(result_division)\n",
    "\n",
    "# Basic Functions\n",
    "import numpy as np\n",
    "arr = np.array([1,2,3,4,5])\n",
    "sqrt = np.sqrt(arr)\n",
    "exp = np.exp(arr)\n",
    "mean = np.mean(arr)\n",
    "add = np.sum(arr)\n",
    "sin = np.sin(arr)\n",
    "print(sqrt)\n",
    "print(exp)\n",
    "print(mean)\n",
    "print(add)\n",
    "print(sin)\n",
    "\n",
    "# Dot and Element Multiplication\n",
    "arr1 = np.array([1,2,3,4,5])\n",
    "arr2 = np.array([6,7,8,9,0])\n",
    "dot = np.dot(arr1,arr2)\n",
    "ele_mult = arr1 * arr2\n",
    "print(dot)\n",
    "print(ele_mult)\n",
    "\n"
   ]
  },
  {
   "cell_type": "markdown",
   "id": "2088d629",
   "metadata": {},
   "source": [
    "## Pandas "
   ]
  },
  {
   "cell_type": "code",
   "execution_count": 4,
   "id": "9b2e6ed7",
   "metadata": {},
   "outputs": [
    {
     "name": "stdout",
     "output_type": "stream",
     "text": [
      "0    1\n",
      "1    2\n",
      "2    3\n",
      "3    4\n",
      "4    5\n",
      "dtype: int64\n",
      "a    1\n",
      "b    2\n",
      "c    3\n",
      "d    4\n",
      "e    5\n",
      "dtype: int64\n",
      "      Name  Age    City\n",
      "0    Alice   21  London\n",
      "1      Bob   22   Paris\n",
      "2  Charlie   23  Berlin\n",
      "3     Dave   24    Bern\n",
      "   Roll No Name\n",
      "0        1   AA\n",
      "1        2   BB\n",
      "2        3   CC\n",
      "3        4   DD\n",
      "4        5   EE\n",
      "5        6   FF\n",
      "6        7   GG\n",
      "7        8   HH\n",
      "   Roll No  Name\n",
      "0         1   AA\n",
      "1         2   BB\n",
      "2         3   CC\n",
      "3         4   DD\n",
      "4         5   EE\n"
     ]
    }
   ],
   "source": [
    "import pandas as pd\n",
    "data = [1,2,3,4,5]\n",
    "series = pd.Series(data)\n",
    "print(series)\n",
    "\n",
    "data = [1,2,3,4,5]\n",
    "index = ['a', 'b', 'c', 'd', 'e']\n",
    "series = pd.Series(data, index=index)\n",
    "print(series)\n",
    "\n",
    "data = {\n",
    "    'Name': ['Alice', 'Bob', 'Charlie', 'Dave'],\n",
    "    'Age': [21, 22, 23, 24],\n",
    "    'City': ['London', 'Paris', 'Berlin', 'Bern']\n",
    "}\n",
    "df = pd.DataFrame(data)\n",
    "print(df)\n",
    "\n",
    "# Importing data from a CSV file\n",
    "df = pd.read_csv('/home/developer/Desktop/test.csv')\n",
    "print(df)\n",
    "\n",
    "# Importing data from an Excel file\n",
    "df1 = pd.read_excel('/home/developer/Desktop/test.xlsx')\n",
    "print(df1)\n",
    "\n",
    "# # Importing data from JSON file\n",
    "# df2 = pd.read_json('/home/developer/Desktop/test.json')\n",
    "# print(df2)\n",
    "\n",
    "# # Importing data from SQL file\n",
    "# import sqlite3\n",
    "# conn = sqlite3.connect('test.db')\n",
    "# df3 = pd.read_sql_query('SELECT a FROM table_name',conn)\n",
    "# print(df3)"
   ]
  }
 ],
 "metadata": {
  "kernelspec": {
   "display_name": "Python 3 (ipykernel)",
   "language": "python",
   "name": "python3"
  },
  "language_info": {
   "codemirror_mode": {
    "name": "ipython",
    "version": 3
   },
   "file_extension": ".py",
   "mimetype": "text/x-python",
   "name": "python",
   "nbconvert_exporter": "python",
   "pygments_lexer": "ipython3",
   "version": "3.9.12"
  }
 },
 "nbformat": 4,
 "nbformat_minor": 5
}
